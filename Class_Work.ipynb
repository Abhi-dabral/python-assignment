{
 "cells": [
  {
   "cell_type": "markdown",
   "id": "87f36157-6dc1-4177-b68b-3b94a3819e1d",
   "metadata": {},
   "source": [
    "class work\n"
   ]
  },
  {
   "cell_type": "markdown",
   "id": "c73f13c8-0c7c-4b33-a975-307a148d93c6",
   "metadata": {},
   "source": [
    "date: 05/09/2024"
   ]
  },
  {
   "cell_type": "markdown",
   "id": "807fce28-496d-4385-915c-9540bc57c4f8",
   "metadata": {},
   "source": [
    "Q.1-> Write a function that takes input argument the input argument should be a list of numbers this function computes the sum average, minimum, maximum and cumulative sum and return these values now use this function. take input from the user,compute the sum average minimum, maximum , cumulative\n",
    "\n"
   ]
  },
  {
   "cell_type": "code",
   "execution_count": 9,
   "id": "4821af68-d521-4b72-ae8a-a487d776762f",
   "metadata": {},
   "outputs": [
    {
     "name": "stdin",
     "output_type": "stream",
     "text": [
      "Enter a list of numbers separated by space:  5 6 7 8 9\n"
     ]
    },
    {
     "name": "stdout",
     "output_type": "stream",
     "text": [
      "Sum-> 35.00\n",
      "Average-> 7.00\n",
      "Minimum-> 5.0\n",
      "Maximum-> 9.0\n",
      "Cumulative Sum-> [5.0, 11.0, 18.0, 26.0, 35.0]\n"
     ]
    }
   ],
   "source": [
    "def compute_statistics(numbers):\n",
    "    \n",
    "    if not numbers:\n",
    "        return 0, 0, None, None, []\n",
    "        \n",
    "    total_sum = sum(numbers)\n",
    "    \n",
    "    average = total_sum / len(numbers)\n",
    "\n",
    "    minimum = min(numbers)\n",
    "\n",
    "    maximum = max(numbers)\n",
    "\n",
    "    cumulative_sum = [sum(numbers[:i+1]) for i in range(len(numbers))]\n",
    "\n",
    "    \n",
    "    return total_sum, average, minimum, maximum, cumulative_sum\n",
    "\n",
    "\n",
    "input_list = input(\"Enter a list of numbers separated by space: \")\n",
    "\n",
    "\n",
    "numbers = [float(num) for num in input_list.split()]\n",
    "\n",
    "\n",
    "if not numbers:\n",
    "    print(\"No numbers entered. Please provide a list of numbers.\")\n",
    "else:\n",
    "\n",
    "    total_sum, average, minimum, maximum, cumulative_sum = compute_statistics(numbers)\n",
    "\n",
    "\n",
    "    print(f\"Sum-> {total_sum:.2f}\")\n",
    "    print(f\"Average-> {average:.2f}\")\n",
    "    print(f\"Minimum-> {minimum}\")\n",
    "    print(f\"Maximum-> {maximum}\")\n",
    "    print(f\"Cumulative Sum-> {cumulative_sum}\")\n",
    "\n"
   ]
  },
  {
   "cell_type": "markdown",
   "id": "5f7112d7-fa16-418a-83cd-4b0ace53d801",
   "metadata": {},
   "source": [
    "Q.2-> write a Python program with two functions: one to get a list of integer inputs from the user and another to display the data entered by the user. The first function ensures that all inputs are integers, you can ask from user how many value enter\n",
    "\n"
   ]
  },
  {
   "cell_type": "code",
   "execution_count": 13,
   "id": "9867aed1-b38e-4d25-8185-18e443b3a05d",
   "metadata": {},
   "outputs": [
    {
     "name": "stdin",
     "output_type": "stream",
     "text": [
      "How many values would you like to enter?  5\n",
      "Enter integer value 1:  5\n",
      "Enter integer value 2:  4\n",
      "Enter integer value 3:  9\n",
      "Enter integer value 4:  6\n",
      "Enter integer value 5:  0\n"
     ]
    },
    {
     "name": "stdout",
     "output_type": "stream",
     "text": [
      "The list of integers entered by the user:\n",
      "[5, 4, 9, 6, 0]\n"
     ]
    }
   ],
   "source": [
    "def get_integer_list():\n",
    "    # Ask the user how many values they want to enter\n",
    "    while True:\n",
    "        try:\n",
    "            n = int(input(\"How many values would you like to enter? \"))\n",
    "            if n <= 0:\n",
    "                print(\"Please enter a positive integer.\")\n",
    "                continue\n",
    "            break\n",
    "        except ValueError:\n",
    "            print(\"Invalid input. Please enter a valid integer.\")\n",
    "\n",
    "    # Initialize an empty list to store the integer values\n",
    "    values = []\n",
    "\n",
    "    # Loop to get the 'n' integer values from the user\n",
    "    for i in range(n):\n",
    "        while True:\n",
    "            try:\n",
    "                value = int(input(f\"Enter integer value {i+1}: \"))\n",
    "                values.append(value)\n",
    "                break\n",
    "            except ValueError:\n",
    "                print(\"Invalid input. Please enter a valid integer.\")\n",
    "\n",
    "    return values\n",
    "\n",
    "def display_list(data):\n",
    "    # Display the list of integers entered by the user\n",
    "    print(\"The list of integers entered by the user:\")\n",
    "    print(data)\n",
    "\n",
    "\n",
    "# Get the list of integers from the user\n",
    "user_data = get_integer_list()\n",
    "\n",
    "# Display the list of integers\n",
    "display_list(user_data)"
   ]
  },
  {
   "cell_type": "code",
   "execution_count": null,
   "id": "56a2e807-d520-4405-8991-d43996ba38f3",
   "metadata": {},
   "outputs": [],
   "source": []
  },
  {
   "cell_type": "code",
   "execution_count": null,
   "id": "adc31f49-f812-4d04-b0cc-712e33ee66c8",
   "metadata": {},
   "outputs": [],
   "source": []
  }
 ],
 "metadata": {
  "kernelspec": {
   "display_name": "Python 3 (ipykernel)",
   "language": "python",
   "name": "python3"
  },
  "language_info": {
   "codemirror_mode": {
    "name": "ipython",
    "version": 3
   },
   "file_extension": ".py",
   "mimetype": "text/x-python",
   "name": "python",
   "nbconvert_exporter": "python",
   "pygments_lexer": "ipython3",
   "version": "3.12.5"
  }
 },
 "nbformat": 4,
 "nbformat_minor": 5
}
