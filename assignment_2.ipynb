{
 "cells": [
  {
   "cell_type": "markdown",
   "id": "2752c522-1249-4973-852a-1ccb4f80a0c6",
   "metadata": {},
   "source": [
    "Python Assignment 2"
   ]
  },
  {
   "cell_type": "markdown",
   "id": "116a31ac-955e-4876-81c9-712cebe40e8f",
   "metadata": {},
   "source": [
    "1 Basic Function Implementation:\n"
   ]
  },
  {
   "cell_type": "markdown",
   "id": "c71df526-7355-441d-892b-1aae050d5357",
   "metadata": {},
   "source": [
    "#-> Write a function greet that takes two arguments: name (a string) and greeting (a string with a default value of \"Hello\"). The function should return a greeting message."
   ]
  },
  {
   "cell_type": "code",
   "execution_count": 1,
   "id": "22675bd9-ec6d-46a9-914d-5218c83695bb",
   "metadata": {},
   "outputs": [
    {
     "name": "stdout",
     "output_type": "stream",
     "text": [
      "Hello, Alice!\n",
      "Hi, Bob!\n"
     ]
    }
   ],
   "source": [
    "def greet(name, greeting=\"Hello\"): \n",
    "    return f\"{greeting}, {name}!\"\n",
    "\n",
    "\n",
    "print(greet(\"Alice\"))          \n",
    "print(greet(\"Bob\", \"Hi\"))     \n"
   ]
  },
  {
   "cell_type": "markdown",
   "id": "c018ed9e-f245-4c80-b800-dcf3103bb7fb",
   "metadata": {},
   "source": [
    "2 Named Arguments:"
   ]
  },
  {
   "cell_type": "markdown",
   "id": "4b05675b-8faa-48c6-9937-a473845d86e1",
   "metadata": {},
   "source": [
    "#-> Create a function create_profile that takes arguments for name, age, and city as named arguments. The function should return a string like \"Name: Alice, Age: 25, City: New York\". Ensure that the age argument has a default value of 18."
   ]
  },
  {
   "cell_type": "code",
   "execution_count": 2,
   "id": "8dbfd731-e279-4fe5-a448-72424979416d",
   "metadata": {},
   "outputs": [
    {
     "name": "stdout",
     "output_type": "stream",
     "text": [
      "Name: Alice, Age: 18, City: New York\n",
      "Name: Bob, Age: 25, City: Chicago\n"
     ]
    }
   ],
   "source": [
    "def create_profile(*, name, age=18, city): \n",
    "    return f\"Name: {name}, Age: {age}, City: {city}\"\n",
    "\n",
    "\n",
    "print(create_profile(name=\"Alice\", city=\"New York\"))      \n",
    "print(create_profile(name=\"Bob\", age=25, city=\"Chicago\")) \n"
   ]
  },
  {
   "cell_type": "markdown",
   "id": "cd54ea5b-bd6c-4c16-b9f5-d85eda8f9523",
   "metadata": {},
   "source": [
    "3 **Using *args and kwargs:"
   ]
  },
  {
   "cell_type": "markdown",
   "id": "25ebb1b2-f2ba-44f3-9c2b-3b2069fb5123",
   "metadata": {},
   "source": [
    "#-> Write a function sum_numbers that takes any number of positional arguments (args) and keyword arguments (*kwargs). It should:\n",
    "\n",
    "Return the sum of all *args if they are numbers.\n",
    "\n",
    "Return a dictionary of all keyword arguments."
   ]
  },
  {
   "cell_type": "code",
   "execution_count": 4,
   "id": "4d48aa6c-8e01-4fbc-99cc-77ab33adc4ff",
   "metadata": {},
   "outputs": [
    {
     "name": "stdout",
     "output_type": "stream",
     "text": [
      "6\n",
      "(3, {'x': 4, 'y': 5})\n"
     ]
    }
   ],
   "source": [
    "def sum_numbers(*args, **kwargs):\n",
    "    # Sum all positional arguments that are numbers\n",
    "    total = sum(arg for arg in args if isinstance(arg, (int, float)))\n",
    "    \n",
    "    # If there are keyword arguments, return both the sum and the kwargs dictionary\n",
    "    if kwargs:\n",
    "        return total, kwargs\n",
    "    # If no keyword arguments, return just the sum\n",
    "    return total\n",
    "\n",
    "\n",
    "print(sum_numbers(1, 2, 3))  \n",
    "print(sum_numbers(1, 2, x=4, y=5))  \n"
   ]
  },
  {
   "cell_type": "markdown",
   "id": "57ddead7-8c41-4a94-8fe8-a5a0413d6a1d",
   "metadata": {},
   "source": [
    "4 Lambdas and Map:"
   ]
  },
  {
   "cell_type": "markdown",
   "id": "f26ebdb5-d40f-4057-98c0-fe30a9d52389",
   "metadata": {},
   "source": [
    "#-> Write a function that uses map and a lambda to return a list where each element is squared."
   ]
  },
  {
   "cell_type": "code",
   "execution_count": 5,
   "id": "a264e849-62e8-4e6b-9c33-a1b2c853668e",
   "metadata": {},
   "outputs": [
    {
     "name": "stdout",
     "output_type": "stream",
     "text": [
      "[1, 4, 9, 16]\n"
     ]
    }
   ],
   "source": [
    "def square_list(numbers): \n",
    "    return list(map(lambda x: x ** 2, numbers))\n",
    "\n",
    "\n",
    "print(square_list([1, 2, 3, 4]))  \n"
   ]
  },
  {
   "cell_type": "markdown",
   "id": "c8921a79-ad25-4ab2-b4ac-4ca2235e06b6",
   "metadata": {},
   "source": [
    "#-> 5 Filter and Lambdas:"
   ]
  },
  {
   "cell_type": "markdown",
   "id": "49c0c434-9d39-4f16-8db9-ce8420779157",
   "metadata": {},
   "source": [
    "Write a function that filters out all odd numbers from a list using filter and a lambda function."
   ]
  },
  {
   "cell_type": "code",
   "execution_count": 6,
   "id": "c21db17a-e5b4-4683-9ab3-d3a6db67f072",
   "metadata": {},
   "outputs": [
    {
     "name": "stdout",
     "output_type": "stream",
     "text": [
      "[2, 4]\n"
     ]
    }
   ],
   "source": [
    "def filter_odd_numbers(numbers):  \n",
    "    return list(filter(lambda x: x % 2 == 0, numbers))\n",
    "\n",
    "# Example usage:\n",
    "print(filter_odd_numbers([1, 2, 3, 4, 5]))  \n"
   ]
  },
  {
   "cell_type": "markdown",
   "id": "9061b3a2-8d1a-4193-8fa7-d39a075f0841",
   "metadata": {},
   "source": [
    "6 Basic List Comprehension:"
   ]
  },
  {
   "cell_type": "markdown",
   "id": "be449721-ceb3-43e4-b809-7917a03acd09",
   "metadata": {},
   "source": [
    "#-> Create a list comprehension that takes a list of numbers and returns a list of their squares."
   ]
  },
  {
   "cell_type": "code",
   "execution_count": 7,
   "id": "ddac1ee1-dc7c-4cf1-a5c4-06a1fefafcf0",
   "metadata": {},
   "outputs": [
    {
     "name": "stdout",
     "output_type": "stream",
     "text": [
      "[1, 4, 9, 16, 25]\n"
     ]
    }
   ],
   "source": [
    "def square_list(numbers): \n",
    "    return [x**2 for x in numbers]\n",
    "\n",
    "\n",
    "print(square_list([1, 2, 3, 4, 5]))  \n"
   ]
  },
  {
   "cell_type": "markdown",
   "id": "03a1b557-e235-44c6-a88b-829845ee11ca",
   "metadata": {},
   "source": [
    "7 List Comprehension with Condition:"
   ]
  },
  {
   "cell_type": "markdown",
   "id": "65296519-f84e-487a-aeda-ead172eecdd8",
   "metadata": {},
   "source": [
    "Use a list comprehension to create a list of even numbers from 1 to 20."
   ]
  },
  {
   "cell_type": "code",
   "execution_count": 8,
   "id": "87fb0e45-b602-4eb3-abf1-1c05a4e6021f",
   "metadata": {},
   "outputs": [
    {
     "name": "stdout",
     "output_type": "stream",
     "text": [
      "[2, 4, 6, 8, 10, 12, 14, 16, 18, 20]\n"
     ]
    }
   ],
   "source": [
    "even_numbers = [x for x in range(1, 21) if x % 2 == 0]\n",
    "\n",
    "\n",
    "print(even_numbers)\n"
   ]
  },
  {
   "cell_type": "markdown",
   "id": "fc8b5193-544c-446b-99fb-ab048843311c",
   "metadata": {},
   "source": [
    "8 Using os and time Modules:"
   ]
  },
  {
   "cell_type": "markdown",
   "id": "5c9bc733-f7c7-4f89-8860-1d3b4279aabf",
   "metadata": {},
   "source": [
    "Write a function file_operations that creates a directory named \"test_folder\" using os.makedirs(). Then, pause the execution for 3 seconds using time.sleep(), and finally, delete the directory using os.rmdir()."
   ]
  },
  {
   "cell_type": "code",
   "execution_count": 9,
   "id": "01e7e617-6857-4742-8776-dcfe264f91be",
   "metadata": {},
   "outputs": [
    {
     "name": "stdout",
     "output_type": "stream",
     "text": [
      "Directory 'test_folder' created.\n",
      "Paused for 3 seconds.\n",
      "Directory 'test_folder' deleted.\n"
     ]
    }
   ],
   "source": [
    "import os\n",
    "import time\n",
    "\n",
    "def file_operations():\n",
    "    # Create the directory \"test_folder\"\n",
    "    os.makedirs(\"test_folder\", exist_ok=True)\n",
    "    print(\"Directory 'test_folder' created.\")\n",
    "\n",
    "    # Pause the execution for 3 seconds\n",
    "    time.sleep(3)\n",
    "    print(\"Paused for 3 seconds.\")\n",
    "\n",
    "    # Delete the directory \"test_folder\"\n",
    "    os.rmdir(\"test_folder\")\n",
    "    print(\"Directory 'test_folder' deleted.\")\n",
    "\n",
    "\n",
    "file_operations()  # Creates \"test_folder\", pauses for 3 seconds, and deletes it.\n"
   ]
  },
  {
   "cell_type": "markdown",
   "id": "e1cb83cb-c837-4cab-8fdd-5e2ff7993a41",
   "metadata": {},
   "source": [
    "9 Importing Specific Functions:"
   ]
  },
  {
   "cell_type": "markdown",
   "id": "2e26fc1d-4ffa-4cc3-b437-99bba1d8d54e",
   "metadata": {},
   "source": [
    "#-> Write a Python script that imports only sleep from the time module and renames it to pause. Use it to pause execution for 2 seconds and print \"Paused execution...\"."
   ]
  },
  {
   "cell_type": "code",
   "execution_count": 10,
   "id": "7c8ceba7-b650-4067-965c-827614a52aa6",
   "metadata": {},
   "outputs": [
    {
     "name": "stdout",
     "output_type": "stream",
     "text": [
      "Paused execution...\n"
     ]
    }
   ],
   "source": [
    "from time import sleep as pause\n",
    "\n",
    "# Pause execution for 2 seconds\n",
    "pause(2)  # Pauses for 2 seconds \n",
    "\n",
    "# Print message\n",
    "print(\"Paused execution...\")\n"
   ]
  },
  {
   "cell_type": "markdown",
   "id": "0b9f2a35-786b-4b47-9452-a69358737190",
   "metadata": {},
   "source": [
    "10 **Recursive Function with *args and kwargs (Flattening a List):"
   ]
  },
  {
   "cell_type": "markdown",
   "id": "7f1b18d1-629e-47fb-8543-a66cd1f21473",
   "metadata": {},
   "source": [
    "Write a recursive function flatten_list that can flatten a nested list of any depth using *args and **kwargs."
   ]
  },
  {
   "cell_type": "markdown",
   "id": "b5ae6e6a-4eea-48bc-83b1-78cbcfefeb5c",
   "metadata": {},
   "source": [
    "Flattening a list means converting a nested list into a single-level list. If the list contains sub-lists, we recursively traverse them and extract their elements to form one flat list"
   ]
  },
  {
   "cell_type": "code",
   "execution_count": 11,
   "id": "1844a0b8-518f-4272-9d50-f8feade15ca8",
   "metadata": {},
   "outputs": [
    {
     "name": "stdout",
     "output_type": "stream",
     "text": [
      "[1, 2, 3, 4, 5, 6, 7]\n"
     ]
    }
   ],
   "source": [
    "def flatten_list(nested_list):\n",
    "    flat_list = []  # Initialize the list to hold the flattened elements\n",
    "    \n",
    "    for item in nested_list:  # Iterate over each item in the nested list\n",
    "        if isinstance(item, list):  # Check if the item is a list\n",
    "            flat_list.extend(flatten_list(item))  # Recursively flatten the list and extend flat_list\n",
    "        else:\n",
    "            flat_list.append(item)  # If it's not a list, append the item\n",
    "    \n",
    "    return flat_list  # Return the flattened list\n",
    "\n",
    "\n",
    "nested = [1, [2, 3], [4, [5, 6]], 7]\n",
    "flat = flatten_list(nested)\n",
    "print(flat)  \n"
   ]
  },
  {
   "cell_type": "code",
   "execution_count": null,
   "id": "7c04b7d8-7e28-40c1-9150-b3ed0b14847e",
   "metadata": {},
   "outputs": [],
   "source": []
  }
 ],
 "metadata": {
  "kernelspec": {
   "display_name": "Python 3 (ipykernel)",
   "language": "python",
   "name": "python3"
  },
  "language_info": {
   "codemirror_mode": {
    "name": "ipython",
    "version": 3
   },
   "file_extension": ".py",
   "mimetype": "text/x-python",
   "name": "python",
   "nbconvert_exporter": "python",
   "pygments_lexer": "ipython3",
   "version": "3.12.5"
  }
 },
 "nbformat": 4,
 "nbformat_minor": 5
}
